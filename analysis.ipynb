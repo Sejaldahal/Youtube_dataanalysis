{
 "cells": [
  {
   "cell_type": "code",
   "execution_count": 34,
   "id": "43a47498",
   "metadata": {},
   "outputs": [],
   "source": [
    "import pandas as pd"
   ]
  },
  {
   "cell_type": "code",
   "execution_count": 35,
   "id": "4b3c4e59",
   "metadata": {},
   "outputs": [],
   "source": [
    "from googleapiclient.discovery import build\n",
    "\n",
    "# Load your API key\n",
    "with open(\"api_key.txt\", \"r\") as f:\n",
    "    api_key = f.read().strip()\n",
    "\n",
    "# Create the YouTube API client\n",
    "youtube = build('youtube', 'v3', developerKey=api_key)"
   ]
  },
  {
   "cell_type": "code",
   "execution_count": 36,
   "id": "4ee0aa23",
   "metadata": {},
   "outputs": [
    {
     "ename": "HttpError",
     "evalue": "<HttpError 400 when requesting https://youtube.googleapis.com/youtube/v3/channels?part=snippet%2CcontentDetails%2Cstatistics&id=UCX6OQ3DkcsbYNE6H8uQQuVA&key=...&alt=json returned \"API key not valid. Please pass a valid API key.\". Details: \"[{'message': 'API key not valid. Please pass a valid API key.', 'domain': 'global', 'reason': 'badRequest'}]\">",
     "output_type": "error",
     "traceback": [
      "\u001b[1;31m---------------------------------------------------------------------------\u001b[0m",
      "\u001b[1;31mHttpError\u001b[0m                                 Traceback (most recent call last)",
      "Cell \u001b[1;32mIn[36], line 35\u001b[0m\n\u001b[0;32m     32\u001b[0m all_data \u001b[38;5;241m=\u001b[39m []\n\u001b[0;32m     34\u001b[0m \u001b[38;5;28;01mfor\u001b[39;00m cid \u001b[38;5;129;01min\u001b[39;00m channel_ids:\n\u001b[1;32m---> 35\u001b[0m     stats \u001b[38;5;241m=\u001b[39m \u001b[43mget_channel_stats\u001b[49m\u001b[43m(\u001b[49m\u001b[43myoutube\u001b[49m\u001b[43m,\u001b[49m\u001b[43m \u001b[49m\u001b[43mcid\u001b[49m\u001b[43m)\u001b[49m\n\u001b[0;32m     36\u001b[0m     all_data\u001b[38;5;241m.\u001b[39mappend(stats)\n\u001b[0;32m     38\u001b[0m df \u001b[38;5;241m=\u001b[39m pd\u001b[38;5;241m.\u001b[39mDataFrame(all_data)\n",
      "Cell \u001b[1;32mIn[36], line 6\u001b[0m, in \u001b[0;36mget_channel_stats\u001b[1;34m(youtube, channel_id)\u001b[0m\n\u001b[0;32m      1\u001b[0m \u001b[38;5;28;01mdef\u001b[39;00m\u001b[38;5;250m \u001b[39m\u001b[38;5;21mget_channel_stats\u001b[39m(youtube, channel_id):\n\u001b[0;32m      2\u001b[0m     request \u001b[38;5;241m=\u001b[39m youtube\u001b[38;5;241m.\u001b[39mchannels()\u001b[38;5;241m.\u001b[39mlist(\n\u001b[0;32m      3\u001b[0m         part\u001b[38;5;241m=\u001b[39m\u001b[38;5;124m\"\u001b[39m\u001b[38;5;124msnippet,contentDetails,statistics\u001b[39m\u001b[38;5;124m\"\u001b[39m,\n\u001b[0;32m      4\u001b[0m         \u001b[38;5;28mid\u001b[39m\u001b[38;5;241m=\u001b[39mchannel_id\n\u001b[0;32m      5\u001b[0m     )\n\u001b[1;32m----> 6\u001b[0m     response \u001b[38;5;241m=\u001b[39m \u001b[43mrequest\u001b[49m\u001b[38;5;241;43m.\u001b[39;49m\u001b[43mexecute\u001b[49m\u001b[43m(\u001b[49m\u001b[43m)\u001b[49m\n\u001b[0;32m      8\u001b[0m     \u001b[38;5;28;01mif\u001b[39;00m \u001b[38;5;124m'\u001b[39m\u001b[38;5;124mitems\u001b[39m\u001b[38;5;124m'\u001b[39m \u001b[38;5;129;01mnot\u001b[39;00m \u001b[38;5;129;01min\u001b[39;00m response \u001b[38;5;129;01mor\u001b[39;00m \u001b[38;5;28mlen\u001b[39m(response[\u001b[38;5;124m'\u001b[39m\u001b[38;5;124mitems\u001b[39m\u001b[38;5;124m'\u001b[39m]) \u001b[38;5;241m==\u001b[39m \u001b[38;5;241m0\u001b[39m:\n\u001b[0;32m      9\u001b[0m         \u001b[38;5;28mprint\u001b[39m(\u001b[38;5;124mf\u001b[39m\u001b[38;5;124m\"\u001b[39m\u001b[38;5;124m❌ No data found for Channel ID: \u001b[39m\u001b[38;5;132;01m{\u001b[39;00mchannel_id\u001b[38;5;132;01m}\u001b[39;00m\u001b[38;5;124m\"\u001b[39m)\n",
      "File \u001b[1;32m~\\AppData\\Roaming\\Python\\Python312\\site-packages\\googleapiclient\\_helpers.py:130\u001b[0m, in \u001b[0;36mpositional.<locals>.positional_decorator.<locals>.positional_wrapper\u001b[1;34m(*args, **kwargs)\u001b[0m\n\u001b[0;32m    128\u001b[0m     \u001b[38;5;28;01melif\u001b[39;00m positional_parameters_enforcement \u001b[38;5;241m==\u001b[39m POSITIONAL_WARNING:\n\u001b[0;32m    129\u001b[0m         logger\u001b[38;5;241m.\u001b[39mwarning(message)\n\u001b[1;32m--> 130\u001b[0m \u001b[38;5;28;01mreturn\u001b[39;00m \u001b[43mwrapped\u001b[49m\u001b[43m(\u001b[49m\u001b[38;5;241;43m*\u001b[39;49m\u001b[43margs\u001b[49m\u001b[43m,\u001b[49m\u001b[43m \u001b[49m\u001b[38;5;241;43m*\u001b[39;49m\u001b[38;5;241;43m*\u001b[39;49m\u001b[43mkwargs\u001b[49m\u001b[43m)\u001b[49m\n",
      "File \u001b[1;32m~\\AppData\\Roaming\\Python\\Python312\\site-packages\\googleapiclient\\http.py:938\u001b[0m, in \u001b[0;36mHttpRequest.execute\u001b[1;34m(self, http, num_retries)\u001b[0m\n\u001b[0;32m    936\u001b[0m     callback(resp)\n\u001b[0;32m    937\u001b[0m \u001b[38;5;28;01mif\u001b[39;00m resp\u001b[38;5;241m.\u001b[39mstatus \u001b[38;5;241m>\u001b[39m\u001b[38;5;241m=\u001b[39m \u001b[38;5;241m300\u001b[39m:\n\u001b[1;32m--> 938\u001b[0m     \u001b[38;5;28;01mraise\u001b[39;00m HttpError(resp, content, uri\u001b[38;5;241m=\u001b[39m\u001b[38;5;28mself\u001b[39m\u001b[38;5;241m.\u001b[39muri)\n\u001b[0;32m    939\u001b[0m \u001b[38;5;28;01mreturn\u001b[39;00m \u001b[38;5;28mself\u001b[39m\u001b[38;5;241m.\u001b[39mpostproc(resp, content)\n",
      "\u001b[1;31mHttpError\u001b[0m: <HttpError 400 when requesting https://youtube.googleapis.com/youtube/v3/channels?part=snippet%2CcontentDetails%2Cstatistics&id=UCX6OQ3DkcsbYNE6H8uQQuVA&key=...&alt=json returned \"API key not valid. Please pass a valid API key.\". Details: \"[{'message': 'API key not valid. Please pass a valid API key.', 'domain': 'global', 'reason': 'badRequest'}]\">"
     ]
    }
   ],
   "source": [
    "def get_channel_stats(youtube, channel_id):\n",
    "    request = youtube.channels().list(\n",
    "        part=\"snippet,contentDetails,statistics\",\n",
    "        id=channel_id\n",
    "    )\n",
    "    response = request.execute()\n",
    "\n",
    "    if 'items' not in response or len(response['items']) == 0:\n",
    "        print(f\"❌ No data found for Channel ID: {channel_id}\")\n",
    "        return None\n",
    "\n",
    "    uploads_playlist = response['items'][0]['contentDetails']['relatedPlaylists']['uploads']\n",
    "\n",
    "    data = {\n",
    "        \"Channel Name\": response['items'][0]['snippet']['title'],\n",
    "        \"Subscribers\": int(response['items'][0]['statistics']['subscriberCount']),\n",
    "        \"Total Views\": int(response['items'][0]['statistics']['viewCount']),\n",
    "        \"Total Videos\": int(response['items'][0]['statistics']['videoCount']),\n",
    "        \"Uploads Playlist\": uploads_playlist\n",
    "        \n",
    "    }\n",
    "\n",
    "    return data\n",
    "\n",
    "# add channel id here\n",
    "channel_ids = [\n",
    "    \"UCX6OQ3DkcsbYNE6H8uQQuVA\",    #mrbeast channelid\n",
    "    \n",
    "  \n",
    " ]  \n",
    "\n",
    "all_data = []\n",
    "\n",
    "for cid in channel_ids:\n",
    "    stats = get_channel_stats(youtube, cid)\n",
    "    all_data.append(stats)\n",
    "\n",
    "df = pd.DataFrame(all_data)\n",
    "print(df)\n"
   ]
  },
  {
   "cell_type": "code",
   "execution_count": null,
   "id": "e53ac546",
   "metadata": {},
   "outputs": [],
   "source": [
    "def get_video_ids(youtube, playlist_id, max_results=50):\n",
    "    video_ids = []\n",
    "    request = youtube.playlistItems().list(\n",
    "        part=\"contentDetails\",\n",
    "        playlistId=playlist_id,\n",
    "        maxResults=max_results\n",
    "    )\n",
    "    response = request.execute()\n",
    "    for item in response[\"items\"]:\n",
    "        video_ids.append(item[\"contentDetails\"][\"videoId\"])\n",
    "    return video_ids\n"
   ]
  },
  {
   "cell_type": "code",
   "execution_count": null,
   "id": "8169bc78",
   "metadata": {},
   "outputs": [],
   "source": [
    "def get_video_details(youtube, video_ids):\n",
    "    all_details = []\n",
    "    for i in range(0, len(video_ids), 50):\n",
    "        request = youtube.videos().list(\n",
    "            part=\"snippet,statistics\",\n",
    "            id=\",\".join(video_ids[i:i+50])\n",
    "        )\n",
    "        response = request.execute()\n",
    "        for video in response[\"items\"]:\n",
    "            details = {\n",
    "                \"Title\": video[\"snippet\"][\"title\"],\n",
    "                \"Views\": int(video[\"statistics\"].get(\"viewCount\", 0)),\n",
    "                \"Likes\": int(video[\"statistics\"].get(\"likeCount\", 0)),\n",
    "                \"Comments\": int(video[\"statistics\"].get(\"commentCount\", 0))\n",
    "            }\n",
    "            all_details.append(details)\n",
    "    return all_details\n"
   ]
  },
  {
   "cell_type": "code",
   "execution_count": null,
   "id": "1e410c8f",
   "metadata": {},
   "outputs": [
    {
     "name": "stdout",
     "output_type": "stream",
     "text": [
      " Channel Stats:\n",
      " {'Channel Name': 'MrBeast', 'Subscribers': 386000000, 'Total Views': 80106899132, 'Total Videos': 862, 'Uploads Playlist': 'UUX6OQ3DkcsbYNE6H8uQQuVA'}\n",
      "\n",
      " Most Viewed Video:\n",
      "                                 Title      Views     Likes  Comments\n",
      "45  Will A Guitar Boat Hold My Weight?  654207500  17432143     14470\n",
      "\n",
      " Most Liked Video:\n",
      "                                 Title      Views     Likes  Comments\n",
      "45  Will A Guitar Boat Hold My Weight?  654207500  17432143     14470\n",
      "\n",
      " Average Views per Video: 220465047.66\n",
      "\n",
      " Average Likes per Video: 7018984.42\n",
      "\n",
      " Average Comments per Video: 29653.98\n"
     ]
    }
   ],
   "source": [
    "import pandas as pd\n",
    "\n",
    "\n",
    "channel_id =  \"UCX6OQ3DkcsbYNE6H8uQQuVA\"\n",
    "\n",
    "\n",
    "channel_stats = get_channel_stats(youtube, channel_id)\n",
    "print(\" Channel Stats:\\n\", channel_stats)\n",
    "\n",
    "\n",
    "video_ids = get_video_ids(youtube, channel_stats[\"Uploads Playlist\"])\n",
    "\n",
    "videos_data = get_video_details(youtube, video_ids)\n",
    "\n",
    "\n",
    "df_videos = pd.DataFrame(videos_data)\n",
    "\n",
    "\n",
    "most_viewed = df_videos.sort_values(by=\"Views\", ascending=False).head(1)\n",
    "most_liked = df_videos.sort_values(by=\"Likes\", ascending=False).head(1)\n",
    "\n",
    "\n",
    "\n",
    "print(\"\\n Most Viewed Video:\")\n",
    "print(most_viewed)\n",
    "print(\"\\n Most Liked Video:\")\n",
    "print(most_liked)\n",
    "\n",
    "print(\"\\n Average Views per Video:\", df_videos['Views'].mean())\n",
    "print(\"\\n Average Likes per Video:\", df_videos['Likes'].mean())\n",
    "print(\"\\n Average Comments per Video:\", df_videos['Comments'].mean())\n"
   ]
  },
  {
   "cell_type": "code",
   "execution_count": null,
   "id": "792670ff",
   "metadata": {},
   "outputs": [],
   "source": []
  }
 ],
 "metadata": {
  "kernelspec": {
   "display_name": "Python 3",
   "language": "python",
   "name": "python3"
  },
  "language_info": {
   "codemirror_mode": {
    "name": "ipython",
    "version": 3
   },
   "file_extension": ".py",
   "mimetype": "text/x-python",
   "name": "python",
   "nbconvert_exporter": "python",
   "pygments_lexer": "ipython3",
   "version": "3.12.6"
  }
 },
 "nbformat": 4,
 "nbformat_minor": 5
}
